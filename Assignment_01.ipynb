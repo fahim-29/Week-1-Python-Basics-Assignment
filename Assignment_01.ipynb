{
 "cells": [
  {
   "cell_type": "markdown",
   "id": "4b9c060f-ef9e-4a42-8ed1-fda04a7f77e9",
   "metadata": {},
   "source": [
    "## Q1. Create one variable containing following type of data:\n",
    "(i) string\n",
    "(ii) list\n",
    "(iii) float\n",
    "(iv) tuple"
   ]
  },
  {
   "cell_type": "code",
   "execution_count": 1,
   "id": "aa121319-87e7-4fbc-9437-01886e790f3d",
   "metadata": {
    "tags": []
   },
   "outputs": [
    {
     "name": "stdout",
     "output_type": "stream",
     "text": [
      "Fahim Ahmad\n"
     ]
    },
    {
     "data": {
      "text/plain": [
       "str"
      ]
     },
     "execution_count": 1,
     "metadata": {},
     "output_type": "execute_result"
    }
   ],
   "source": [
    "#(i)string\n",
    "\n",
    "Name= \"Fahim Ahmad\"\n",
    "print(Name)\n",
    "type(Name)"
   ]
  },
  {
   "cell_type": "code",
   "execution_count": 2,
   "id": "30f667b0-98c7-4706-be3a-503e4e545434",
   "metadata": {
    "tags": []
   },
   "outputs": [
    {
     "name": "stdout",
     "output_type": "stream",
     "text": [
      "['Fahim', 3.14, False, 234, (3+4j), True]\n"
     ]
    },
    {
     "data": {
      "text/plain": [
       "list"
      ]
     },
     "execution_count": 2,
     "metadata": {},
     "output_type": "execute_result"
    }
   ],
   "source": [
    "#(ii)list\n",
    "\n",
    "List= [\"Fahim\", 3.14, False, 234, 3+4j, True]\n",
    "print(List)\n",
    "type(List)"
   ]
  },
  {
   "cell_type": "code",
   "execution_count": 3,
   "id": "99b063b5-f919-4e2e-997b-de02e66e5964",
   "metadata": {
    "tags": []
   },
   "outputs": [
    {
     "name": "stdout",
     "output_type": "stream",
     "text": [
      "3.14\n"
     ]
    },
    {
     "data": {
      "text/plain": [
       "float"
      ]
     },
     "execution_count": 3,
     "metadata": {},
     "output_type": "execute_result"
    }
   ],
   "source": [
    "#(iii)float\n",
    "pi_number= 3.14\n",
    "print(pi_number)\n",
    "type(pi_number)\n"
   ]
  },
  {
   "cell_type": "code",
   "execution_count": 4,
   "id": "c5a28f8c-5fc9-41bc-a002-292d851758f8",
   "metadata": {
    "tags": []
   },
   "outputs": [
    {
     "name": "stdout",
     "output_type": "stream",
     "text": [
      "('Fahim', 3.14, False, 234, (3+4j), True)\n"
     ]
    },
    {
     "data": {
      "text/plain": [
       "tuple"
      ]
     },
     "execution_count": 4,
     "metadata": {},
     "output_type": "execute_result"
    }
   ],
   "source": [
    "#(iv)tuple\n",
    "\n",
    "Tuple=(\"Fahim\", 3.14, False, 234, 3+4j, True)\n",
    "print(Tuple)\n",
    "type(Tuple)\n",
    "\n"
   ]
  },
  {
   "cell_type": "markdown",
   "id": "33aff770-9e31-4182-a3e0-732bdb6ea7e6",
   "metadata": {},
   "source": [
    "## Q2. Given are some following variables containing data:\n",
    "(i) var1 = ‘ ‘\n",
    "\n",
    "(ii) var2 = ‘[ DS , ML , Python]’\n",
    "\n",
    "(iii) var3 = [ ‘DS’ , ’ML’ , ‘Python’ ]\n",
    "\n",
    "(iv) var4 = 1.\n",
    "\n",
    "What will be the data type of the above given variable."
   ]
  },
  {
   "cell_type": "code",
   "execution_count": 5,
   "id": "65e2bb23-6b0c-4507-bfc8-76c192d5d04d",
   "metadata": {
    "tags": []
   },
   "outputs": [
    {
     "data": {
      "text/plain": [
       "str"
      ]
     },
     "execution_count": 5,
     "metadata": {},
     "output_type": "execute_result"
    }
   ],
   "source": [
    "var1= ''\n",
    "type(var1)"
   ]
  },
  {
   "cell_type": "code",
   "execution_count": 6,
   "id": "cde0508d-2b23-466e-abd4-99c250ed6230",
   "metadata": {
    "tags": []
   },
   "outputs": [
    {
     "data": {
      "text/plain": [
       "str"
      ]
     },
     "execution_count": 6,
     "metadata": {},
     "output_type": "execute_result"
    }
   ],
   "source": [
    "var2='[DS,ML,Python]'\n",
    "type(var2)"
   ]
  },
  {
   "cell_type": "code",
   "execution_count": 7,
   "id": "e75bd94a-349e-4f48-be10-270c7130d84d",
   "metadata": {
    "tags": []
   },
   "outputs": [
    {
     "data": {
      "text/plain": [
       "list"
      ]
     },
     "execution_count": 7,
     "metadata": {},
     "output_type": "execute_result"
    }
   ],
   "source": [
    "var3 =['DS','ML','Python']\n",
    "type(var3)"
   ]
  },
  {
   "cell_type": "code",
   "execution_count": 8,
   "id": "90142bc4-c3ed-40f4-9a19-7dae08c4b525",
   "metadata": {
    "tags": []
   },
   "outputs": [
    {
     "data": {
      "text/plain": [
       "int"
      ]
     },
     "execution_count": 8,
     "metadata": {},
     "output_type": "execute_result"
    }
   ],
   "source": [
    "var4=1\n",
    "type(var4)"
   ]
  },
  {
   "cell_type": "markdown",
   "id": "3e49a7ed-a9f1-47bb-9a55-fbe470c391ac",
   "metadata": {},
   "source": [
    "## Q3. Explain the use of the following operators using an example:\n",
    "(i) /\n",
    "\n",
    "(ii) %\n",
    "\n",
    "(iii) //\n",
    "\n",
    "(iv) **"
   ]
  },
  {
   "cell_type": "code",
   "execution_count": 9,
   "id": "944cb343-eb7e-41f8-aa23-e261d1df65a1",
   "metadata": {
    "tags": []
   },
   "outputs": [
    {
     "data": {
      "text/plain": [
       "10.0"
      ]
     },
     "execution_count": 9,
     "metadata": {},
     "output_type": "execute_result"
    }
   ],
   "source": [
    "#Divides the number on the left by the number on the right, returns a float (decimal) even if the division is exact.\n",
    "\n",
    "division= 80/8\n",
    "division"
   ]
  },
  {
   "cell_type": "code",
   "execution_count": 10,
   "id": "b4d787d4-3f16-4a3d-91bb-ef79468d87ed",
   "metadata": {
    "tags": []
   },
   "outputs": [
    {
     "data": {
      "text/plain": [
       "2"
      ]
     },
     "execution_count": 10,
     "metadata": {},
     "output_type": "execute_result"
    }
   ],
   "source": [
    "#Returns the remainder after dividing the left number by the right.\n",
    "\n",
    "Modulus= 20%3\n",
    "Modulus"
   ]
  },
  {
   "cell_type": "code",
   "execution_count": 11,
   "id": "0978495c-3282-42e3-9d37-6aa89fd524be",
   "metadata": {
    "tags": []
   },
   "outputs": [
    {
     "data": {
      "text/plain": [
       "6"
      ]
     },
     "execution_count": 11,
     "metadata": {},
     "output_type": "execute_result"
    }
   ],
   "source": [
    "#Performs division and rounds down to the nearest whole number (integer).\n",
    "\n",
    "Floor_Division=20//3\n",
    "Floor_Division\n"
   ]
  },
  {
   "cell_type": "code",
   "execution_count": 12,
   "id": "a7c12980-2b61-4be2-b69c-965ecf2de2dd",
   "metadata": {
    "tags": []
   },
   "outputs": [
    {
     "data": {
      "text/plain": [
       "8"
      ]
     },
     "execution_count": 12,
     "metadata": {},
     "output_type": "execute_result"
    }
   ],
   "source": [
    "#Raises the number on the left to the power of the number on the right.\n",
    "\n",
    "Exponentiation=2**3\n",
    "Exponentiation"
   ]
  },
  {
   "cell_type": "markdown",
   "id": "58bce021-7f01-4d1c-9930-5cb1fac76451",
   "metadata": {},
   "source": [
    "## Q4. Create a list of length 10 of your choice containing multiple types of data. Using for loop print theelement and its data type."
   ]
  },
  {
   "cell_type": "code",
   "execution_count": 13,
   "id": "c8edc717-7ad8-4a7c-9e12-8c599ad1321c",
   "metadata": {
    "tags": []
   },
   "outputs": [
    {
     "name": "stdout",
     "output_type": "stream",
     "text": [
      "Element: 25, Type: <class 'int'>\n",
      "Element: Ahmad, Type: <class 'str'>\n",
      "Element: 3.14, Type: <class 'float'>\n",
      "Element: True, Type: <class 'bool'>\n",
      "Element: None, Type: <class 'NoneType'>\n",
      "Element: [1, 2, 3], Type: <class 'list'>\n",
      "Element: {'Name': 'Fahim'}, Type: <class 'dict'>\n",
      "Element: (5, 6), Type: <class 'tuple'>\n",
      "Element: {1, 2}, Type: <class 'set'>\n",
      "Element: b'bytes', Type: <class 'bytes'>\n"
     ]
    }
   ],
   "source": [
    "List= [25, \"Ahmad\", 3.14, True, None, [1, 2, 3], {\"Name\": \"Fahim\"}, (5, 6), {1, 2}, b\"bytes\"]\n",
    "\n",
    "for i in List:\n",
    "    print(f\"Element: {i}, Type: {type(i)}\")\n"
   ]
  },
  {
   "cell_type": "markdown",
   "id": "652883a4-507e-4be5-9bfa-d34fda2a8de7",
   "metadata": {},
   "source": [
    "## Q5. Using a while loop, verify if the number A is purely divisible  by number B and if so then how many times it can be divisible."
   ]
  },
  {
   "cell_type": "code",
   "execution_count": 24,
   "id": "e5829e35-c95e-4210-8ccf-be63a43d92ee",
   "metadata": {
    "tags": []
   },
   "outputs": [
    {
     "name": "stdin",
     "output_type": "stream",
     "text": [
      " 112\n",
      " 2\n"
     ]
    },
    {
     "name": "stdout",
     "output_type": "stream",
     "text": [
      "The number is divisible by 2 times by 4.\n"
     ]
    }
   ],
   "source": [
    "# Example values\n",
    "A = int(input())\n",
    "B = int(input())\n",
    "\n",
    "count = 0\n",
    "\n",
    "# Use while loop to divide A by B until it's no longer divisible\n",
    "while A % B == 0:\n",
    "    A = A // B\n",
    "    count += 1\n",
    "\n",
    "print(f\"The number is divisible by {B} times by {count}.\")\n",
    "\n"
   ]
  },
  {
   "cell_type": "markdown",
   "id": "ad464855-085a-4b1e-9fea-a39afaaa14c2",
   "metadata": {},
   "source": [
    "\n",
    "## Q6. Create a list containing 25 int type data. Using for loop and if-else condition print if the element is divisible by 3 or not.\n",
    " "
   ]
  },
  {
   "cell_type": "code",
   "execution_count": 50,
   "id": "da449691-601c-48c1-9bf5-549893d84912",
   "metadata": {
    "tags": []
   },
   "outputs": [
    {
     "name": "stdout",
     "output_type": "stream",
     "text": [
      "[1, 2, 21, 65, 76, 87, 3, 4, 5, 6, 7, 8, 9, 10, 11, 22, 33, 22, 44, 22, 55, 66, 77, 88, 66]\n",
      "1 is not divisible by 3\n",
      "2 is not divisible by 3\n",
      "21 is divisible by 3\n",
      "65 is not divisible by 3\n",
      "76 is not divisible by 3\n",
      "87 is divisible by 3\n",
      "3 is divisible by 3\n",
      "4 is not divisible by 3\n",
      "5 is not divisible by 3\n",
      "6 is divisible by 3\n",
      "7 is not divisible by 3\n",
      "8 is not divisible by 3\n",
      "9 is divisible by 3\n",
      "10 is not divisible by 3\n",
      "11 is not divisible by 3\n",
      "22 is not divisible by 3\n",
      "33 is divisible by 3\n",
      "22 is not divisible by 3\n",
      "44 is not divisible by 3\n",
      "22 is not divisible by 3\n",
      "55 is not divisible by 3\n",
      "66 is divisible by 3\n",
      "77 is not divisible by 3\n",
      "88 is not divisible by 3\n",
      "66 is divisible by 3\n"
     ]
    }
   ],
   "source": [
    "list= [1, 2,21,65,76,87,3,4,5,6,7,8,9,10,11,22,33,22,44,22,55,66,77,88,66]\n",
    "(print(list))\n",
    "for i in list:\n",
    "    if i % 3==0:\n",
    "         print(f\"{i} is divisible by 3\")\n",
    "    else:\n",
    "         print(f\"{i} is not divisible by 3\")\n",
    "       "
   ]
  },
  {
   "cell_type": "markdown",
   "id": "78fe48e3-e844-4bf0-a27a-428395df3089",
   "metadata": {
    "tags": []
   },
   "source": [
    "## Q7. What do you understand about mutable and immutable data types? Give examples for both showing this property."
   ]
  },
  {
   "cell_type": "markdown",
   "id": "c0d75dab-31cd-4cdd-9bc0-2153c415198c",
   "metadata": {},
   "source": [
    "## Mutable\n",
    "Definition: These are data types whose values can be changed after the object is created.\n",
    "\n",
    "example: list, dic, set\n",
    "\n",
    "## Immutable\n",
    "Definition: These are data types whose values cannot be changed once the object is created.\n",
    "\n",
    "example: int, float, tuple"
   ]
  }
 ],
 "metadata": {
  "kernelspec": {
   "display_name": "Python 3 (ipykernel)",
   "language": "python",
   "name": "python3"
  },
  "language_info": {
   "codemirror_mode": {
    "name": "ipython",
    "version": 3
   },
   "file_extension": ".py",
   "mimetype": "text/x-python",
   "name": "python",
   "nbconvert_exporter": "python",
   "pygments_lexer": "ipython3",
   "version": "3.11.4"
  }
 },
 "nbformat": 4,
 "nbformat_minor": 5
}
